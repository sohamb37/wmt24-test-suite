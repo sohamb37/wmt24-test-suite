{
 "cells": [
  {
   "cell_type": "code",
   "execution_count": 2,
   "metadata": {},
   "outputs": [],
   "source": [
    "import pandas as pd\n",
    "import numpy as np\n",
    "import statistics"
   ]
  },
  {
   "cell_type": "code",
   "execution_count": 3,
   "metadata": {},
   "outputs": [],
   "source": [
    "human = pd.read_csv(\"/home/soham37/Downloads/xCOMET/xCOMET/human_evaluation_Anubhav - human_evaluation.csv\")"
   ]
  },
  {
   "cell_type": "code",
   "execution_count": 4,
   "metadata": {},
   "outputs": [
    {
     "data": {
      "text/html": [
       "<div>\n",
       "<style scoped>\n",
       "    .dataframe tbody tr th:only-of-type {\n",
       "        vertical-align: middle;\n",
       "    }\n",
       "\n",
       "    .dataframe tbody tr th {\n",
       "        vertical-align: top;\n",
       "    }\n",
       "\n",
       "    .dataframe thead th {\n",
       "        text-align: right;\n",
       "    }\n",
       "</style>\n",
       "<table border=\"1\" class=\"dataframe\">\n",
       "  <thead>\n",
       "    <tr style=\"text-align: right;\">\n",
       "      <th></th>\n",
       "      <th>domain</th>\n",
       "      <th>source</th>\n",
       "      <th>reference</th>\n",
       "      <th>model_output</th>\n",
       "      <th>rating_out_of_5(Anubhav)</th>\n",
       "    </tr>\n",
       "  </thead>\n",
       "  <tbody>\n",
       "    <tr>\n",
       "      <th>0</th>\n",
       "      <td>education</td>\n",
       "      <td>There was a game and a system called Bee Star,...</td>\n",
       "      <td>बी स्टार नामक एक खेल और एक सिस्टम था, जिसे एक ...</td>\n",
       "      <td>एक खेल और एक सिस्टम बी स्टार था, जिसे एक शतरंज...</td>\n",
       "      <td>2</td>\n",
       "    </tr>\n",
       "    <tr>\n",
       "      <th>1</th>\n",
       "      <td>education</td>\n",
       "      <td>There was a game and a system called Bee Star,...</td>\n",
       "      <td>बी स्टार नामक एक खेल और एक सिस्टम था, जिसे एक ...</td>\n",
       "      <td>एक खेल और एक सिस्टम था जिसे बी स्टार कहा जाता ...</td>\n",
       "      <td>3</td>\n",
       "    </tr>\n",
       "    <tr>\n",
       "      <th>2</th>\n",
       "      <td>education</td>\n",
       "      <td>There was a game and a system called Bee Star,...</td>\n",
       "      <td>बी स्टार नामक एक खेल और एक सिस्टम था, जिसे एक ...</td>\n",
       "      <td>एक खेल और एक प्रणाली थी जिसे बी स्टार कहा जाता...</td>\n",
       "      <td>4</td>\n",
       "    </tr>\n",
       "    <tr>\n",
       "      <th>3</th>\n",
       "      <td>education</td>\n",
       "      <td>There was a game and a system called Bee Star,...</td>\n",
       "      <td>बी स्टार नामक एक खेल और एक सिस्टम था, जिसे एक ...</td>\n",
       "      <td>पिछला एकाधिकार और एक प्रणाली नाक रेड, जिसका रा...</td>\n",
       "      <td>2</td>\n",
       "    </tr>\n",
       "    <tr>\n",
       "      <th>4</th>\n",
       "      <td>education</td>\n",
       "      <td>There was a game and a system called Bee Star,...</td>\n",
       "      <td>बी स्टार नामक एक खेल और एक सिस्टम था, जिसे एक ...</td>\n",
       "      <td>एक खेल और एक सिस्टम था जिसे बी स्टार कहा जाता ...</td>\n",
       "      <td>3</td>\n",
       "    </tr>\n",
       "    <tr>\n",
       "      <th>...</th>\n",
       "      <td>...</td>\n",
       "      <td>...</td>\n",
       "      <td>...</td>\n",
       "      <td>...</td>\n",
       "      <td>...</td>\n",
       "    </tr>\n",
       "    <tr>\n",
       "      <th>283</th>\n",
       "      <td>review</td>\n",
       "      <td>very happy with the performance of asus zenfon...</td>\n",
       "      <td>आसुस जेनफोन मैक्स प्रो एम1 के प्रदर्शन से बहुत...</td>\n",
       "      <td>आसुस जेनफोन मैक्स प्रो एम1 के प्रदर्शन से बहुत...</td>\n",
       "      <td>4</td>\n",
       "    </tr>\n",
       "    <tr>\n",
       "      <th>284</th>\n",
       "      <td>review</td>\n",
       "      <td>very happy with the performance of asus zenfon...</td>\n",
       "      <td>आसुस जेनफोन मैक्स प्रो एम1 के प्रदर्शन से बहुत...</td>\n",
       "      <td>असूस ज़ेनफोन मैक्स प्रो एम 1 के प्रदर्शन से बह...</td>\n",
       "      <td>4</td>\n",
       "    </tr>\n",
       "    <tr>\n",
       "      <th>285</th>\n",
       "      <td>review</td>\n",
       "      <td>very happy with the performance of asus zenfon...</td>\n",
       "      <td>आसुस जेनफोन मैक्स प्रो एम1 के प्रदर्शन से बहुत...</td>\n",
       "      <td>आसुस जेनफोन मैक्स प्रो एम1 के प्रदर्शन से बहुत...</td>\n",
       "      <td>4</td>\n",
       "    </tr>\n",
       "    <tr>\n",
       "      <th>286</th>\n",
       "      <td>review</td>\n",
       "      <td>very happy with the performance of asus zenfon...</td>\n",
       "      <td>आसुस जेनफोन मैक्स प्रो एम1 के प्रदर्शन से बहुत...</td>\n",
       "      <td>मैं एशस ज़ेनफोन मैक्स प्रो एम1 के प्रदर्शन से ...</td>\n",
       "      <td>4</td>\n",
       "    </tr>\n",
       "    <tr>\n",
       "      <th>287</th>\n",
       "      <td>review</td>\n",
       "      <td>very happy with the performance of asus zenfon...</td>\n",
       "      <td>आसुस जेनफोन मैक्स प्रो एम1 के प्रदर्शन से बहुत...</td>\n",
       "      <td>Asus Zenfone Max Pro M1 के प्रदर्शन से बहुत खु...</td>\n",
       "      <td>3</td>\n",
       "    </tr>\n",
       "  </tbody>\n",
       "</table>\n",
       "<p>288 rows × 5 columns</p>\n",
       "</div>"
      ],
      "text/plain": [
       "        domain                                             source  \\\n",
       "0    education  There was a game and a system called Bee Star,...   \n",
       "1    education  There was a game and a system called Bee Star,...   \n",
       "2    education  There was a game and a system called Bee Star,...   \n",
       "3    education  There was a game and a system called Bee Star,...   \n",
       "4    education  There was a game and a system called Bee Star,...   \n",
       "..         ...                                                ...   \n",
       "283     review  very happy with the performance of asus zenfon...   \n",
       "284     review  very happy with the performance of asus zenfon...   \n",
       "285     review  very happy with the performance of asus zenfon...   \n",
       "286     review  very happy with the performance of asus zenfon...   \n",
       "287     review  very happy with the performance of asus zenfon...   \n",
       "\n",
       "                                             reference  \\\n",
       "0    बी स्टार नामक एक खेल और एक सिस्टम था, जिसे एक ...   \n",
       "1    बी स्टार नामक एक खेल और एक सिस्टम था, जिसे एक ...   \n",
       "2    बी स्टार नामक एक खेल और एक सिस्टम था, जिसे एक ...   \n",
       "3    बी स्टार नामक एक खेल और एक सिस्टम था, जिसे एक ...   \n",
       "4    बी स्टार नामक एक खेल और एक सिस्टम था, जिसे एक ...   \n",
       "..                                                 ...   \n",
       "283  आसुस जेनफोन मैक्स प्रो एम1 के प्रदर्शन से बहुत...   \n",
       "284  आसुस जेनफोन मैक्स प्रो एम1 के प्रदर्शन से बहुत...   \n",
       "285  आसुस जेनफोन मैक्स प्रो एम1 के प्रदर्शन से बहुत...   \n",
       "286  आसुस जेनफोन मैक्स प्रो एम1 के प्रदर्शन से बहुत...   \n",
       "287  आसुस जेनफोन मैक्स प्रो एम1 के प्रदर्शन से बहुत...   \n",
       "\n",
       "                                          model_output  \\\n",
       "0    एक खेल और एक सिस्टम बी स्टार था, जिसे एक शतरंज...   \n",
       "1    एक खेल और एक सिस्टम था जिसे बी स्टार कहा जाता ...   \n",
       "2    एक खेल और एक प्रणाली थी जिसे बी स्टार कहा जाता...   \n",
       "3    पिछला एकाधिकार और एक प्रणाली नाक रेड, जिसका रा...   \n",
       "4    एक खेल और एक सिस्टम था जिसे बी स्टार कहा जाता ...   \n",
       "..                                                 ...   \n",
       "283  आसुस जेनफोन मैक्स प्रो एम1 के प्रदर्शन से बहुत...   \n",
       "284  असूस ज़ेनफोन मैक्स प्रो एम 1 के प्रदर्शन से बह...   \n",
       "285  आसुस जेनफोन मैक्स प्रो एम1 के प्रदर्शन से बहुत...   \n",
       "286  मैं एशस ज़ेनफोन मैक्स प्रो एम1 के प्रदर्शन से ...   \n",
       "287  Asus Zenfone Max Pro M1 के प्रदर्शन से बहुत खु...   \n",
       "\n",
       "     rating_out_of_5(Anubhav)  \n",
       "0                           2  \n",
       "1                           3  \n",
       "2                           4  \n",
       "3                           2  \n",
       "4                           3  \n",
       "..                        ...  \n",
       "283                         4  \n",
       "284                         4  \n",
       "285                         4  \n",
       "286                         4  \n",
       "287                         3  \n",
       "\n",
       "[288 rows x 5 columns]"
      ]
     },
     "execution_count": 4,
     "metadata": {},
     "output_type": "execute_result"
    }
   ],
   "source": [
    "human"
   ]
  },
  {
   "cell_type": "code",
   "execution_count": 6,
   "metadata": {},
   "outputs": [],
   "source": [
    "file = [\"Aya23\", \"Claude_3_5\", \"CommandR_plus\", \"CycleL\", \"GPT_4\", \"IKUN\", \"IKUN_C\", \"IOL_Research\", \"Llama3_70B\", \"NVIDIA_NeMo\", \"ONLINE_A\", \"ONLINE_B\", \"ONLINE_G\", \"TranssionMT\", \"Unbabel_Tower70B\", \"ZMT\"]"
   ]
  },
  {
   "cell_type": "code",
   "execution_count": 14,
   "metadata": {},
   "outputs": [],
   "source": [
    "domains = {\"edu\": \"education\", \"gen\": \"general\", \"jud\": \"judicial\", \"lit\": \"literature\", \"noi\": \"noisy\", \"rev\": \"review\"}"
   ]
  },
  {
   "cell_type": "code",
   "execution_count": 16,
   "metadata": {},
   "outputs": [
    {
     "data": {
      "text/plain": [
       "'education'"
      ]
     },
     "execution_count": 16,
     "metadata": {},
     "output_type": "execute_result"
    }
   ],
   "source": [
    "domains[\"edu\"]"
   ]
  },
  {
   "cell_type": "code",
   "execution_count": 21,
   "metadata": {},
   "outputs": [],
   "source": [
    "domain_human_score = []"
   ]
  },
  {
   "cell_type": "code",
   "execution_count": 22,
   "metadata": {},
   "outputs": [],
   "source": [
    "for domain in domains:\n",
    "    name = f\"{domains[domain]}_df\"\n",
    "    name = human[human[\"domain\"] == f\"{domains[domain]}\"]\n",
    "    domain_human_score.append(statistics.mean(name[\"rating_out_of_5(Anubhav)\"]))"
   ]
  },
  {
   "cell_type": "code",
   "execution_count": 47,
   "metadata": {},
   "outputs": [
    {
     "data": {
      "text/plain": [
       "6"
      ]
     },
     "execution_count": 47,
     "metadata": {},
     "output_type": "execute_result"
    }
   ],
   "source": [
    "len(domains.values())"
   ]
  },
  {
   "cell_type": "code",
   "execution_count": 48,
   "metadata": {},
   "outputs": [],
   "source": [
    "df_human_domain = pd.DataFrame({\"domains\": domains.values(), \"human_score\": domain_human_score})"
   ]
  },
  {
   "cell_type": "code",
   "execution_count": 49,
   "metadata": {},
   "outputs": [
    {
     "data": {
      "text/html": [
       "<div>\n",
       "<style scoped>\n",
       "    .dataframe tbody tr th:only-of-type {\n",
       "        vertical-align: middle;\n",
       "    }\n",
       "\n",
       "    .dataframe tbody tr th {\n",
       "        vertical-align: top;\n",
       "    }\n",
       "\n",
       "    .dataframe thead th {\n",
       "        text-align: right;\n",
       "    }\n",
       "</style>\n",
       "<table border=\"1\" class=\"dataframe\">\n",
       "  <thead>\n",
       "    <tr style=\"text-align: right;\">\n",
       "      <th></th>\n",
       "      <th>domains</th>\n",
       "      <th>human_score</th>\n",
       "    </tr>\n",
       "  </thead>\n",
       "  <tbody>\n",
       "    <tr>\n",
       "      <th>0</th>\n",
       "      <td>education</td>\n",
       "      <td>2.895833</td>\n",
       "    </tr>\n",
       "    <tr>\n",
       "      <th>1</th>\n",
       "      <td>general</td>\n",
       "      <td>3.479167</td>\n",
       "    </tr>\n",
       "    <tr>\n",
       "      <th>2</th>\n",
       "      <td>judicial</td>\n",
       "      <td>2.875000</td>\n",
       "    </tr>\n",
       "    <tr>\n",
       "      <th>3</th>\n",
       "      <td>literature</td>\n",
       "      <td>2.979167</td>\n",
       "    </tr>\n",
       "    <tr>\n",
       "      <th>4</th>\n",
       "      <td>noisy</td>\n",
       "      <td>2.354167</td>\n",
       "    </tr>\n",
       "    <tr>\n",
       "      <th>5</th>\n",
       "      <td>review</td>\n",
       "      <td>2.708333</td>\n",
       "    </tr>\n",
       "  </tbody>\n",
       "</table>\n",
       "</div>"
      ],
      "text/plain": [
       "      domains  human_score\n",
       "0   education     2.895833\n",
       "1     general     3.479167\n",
       "2    judicial     2.875000\n",
       "3  literature     2.979167\n",
       "4       noisy     2.354167\n",
       "5      review     2.708333"
      ]
     },
     "execution_count": 49,
     "metadata": {},
     "output_type": "execute_result"
    }
   ],
   "source": [
    "df_human_domain"
   ]
  },
  {
   "cell_type": "code",
   "execution_count": null,
   "metadata": {},
   "outputs": [],
   "source": [
    "model_human_score = []"
   ]
  },
  {
   "cell_type": "code",
   "execution_count": 26,
   "metadata": {},
   "outputs": [
    {
     "name": "stderr",
     "output_type": "stream",
     "text": [
      "/home/soham37/.local/lib/python3.10/site-packages/numpy/_core/fromnumeric.py:57: FutureWarning: 'DataFrame.swapaxes' is deprecated and will be removed in a future version. Please use 'DataFrame.transpose' instead.\n",
      "  return bound(*args, **kwds)\n"
     ]
    }
   ],
   "source": [
    "# Split the dataframe into 6 chunks of 16 rows each\n",
    "chunks = np.array_split(human, 18)"
   ]
  },
  {
   "cell_type": "code",
   "execution_count": 28,
   "metadata": {},
   "outputs": [
    {
     "data": {
      "text/plain": [
       "18"
      ]
     },
     "execution_count": 28,
     "metadata": {},
     "output_type": "execute_result"
    }
   ],
   "source": [
    "len(chunks)"
   ]
  },
  {
   "cell_type": "code",
   "execution_count": 29,
   "metadata": {},
   "outputs": [],
   "source": [
    "# Sum the \"rating_out_of_5(Anubhav)\" values across all 18 chunks\n",
    "result = [sum(values) / 18 for values in zip(*(chunk[\"rating_out_of_5(Anubhav)\"] for chunk in chunks))]"
   ]
  },
  {
   "cell_type": "code",
   "execution_count": 34,
   "metadata": {},
   "outputs": [],
   "source": [
    "model_human_score = [round(i, 2) for i in result]"
   ]
  },
  {
   "cell_type": "code",
   "execution_count": 50,
   "metadata": {},
   "outputs": [],
   "source": [
    "df_human_model = pd.DataFrame({\"models\": file, \"human_score\": model_human_score})"
   ]
  },
  {
   "cell_type": "code",
   "execution_count": 51,
   "metadata": {},
   "outputs": [
    {
     "data": {
      "text/html": [
       "<div>\n",
       "<style scoped>\n",
       "    .dataframe tbody tr th:only-of-type {\n",
       "        vertical-align: middle;\n",
       "    }\n",
       "\n",
       "    .dataframe tbody tr th {\n",
       "        vertical-align: top;\n",
       "    }\n",
       "\n",
       "    .dataframe thead th {\n",
       "        text-align: right;\n",
       "    }\n",
       "</style>\n",
       "<table border=\"1\" class=\"dataframe\">\n",
       "  <thead>\n",
       "    <tr style=\"text-align: right;\">\n",
       "      <th></th>\n",
       "      <th>models</th>\n",
       "      <th>human_score</th>\n",
       "    </tr>\n",
       "  </thead>\n",
       "  <tbody>\n",
       "    <tr>\n",
       "      <th>0</th>\n",
       "      <td>Aya23</td>\n",
       "      <td>3.00</td>\n",
       "    </tr>\n",
       "    <tr>\n",
       "      <th>1</th>\n",
       "      <td>Claude_3_5</td>\n",
       "      <td>3.61</td>\n",
       "    </tr>\n",
       "    <tr>\n",
       "      <th>2</th>\n",
       "      <td>CommandR_plus</td>\n",
       "      <td>3.44</td>\n",
       "    </tr>\n",
       "    <tr>\n",
       "      <th>3</th>\n",
       "      <td>CycleL</td>\n",
       "      <td>1.11</td>\n",
       "    </tr>\n",
       "    <tr>\n",
       "      <th>4</th>\n",
       "      <td>GPT_4</td>\n",
       "      <td>2.78</td>\n",
       "    </tr>\n",
       "    <tr>\n",
       "      <th>5</th>\n",
       "      <td>IKUN</td>\n",
       "      <td>2.28</td>\n",
       "    </tr>\n",
       "    <tr>\n",
       "      <th>6</th>\n",
       "      <td>IKUN_C</td>\n",
       "      <td>1.56</td>\n",
       "    </tr>\n",
       "    <tr>\n",
       "      <th>7</th>\n",
       "      <td>IOL_Research</td>\n",
       "      <td>3.06</td>\n",
       "    </tr>\n",
       "    <tr>\n",
       "      <th>8</th>\n",
       "      <td>Llama3_70B</td>\n",
       "      <td>3.00</td>\n",
       "    </tr>\n",
       "    <tr>\n",
       "      <th>9</th>\n",
       "      <td>NVIDIA_NeMo</td>\n",
       "      <td>2.22</td>\n",
       "    </tr>\n",
       "    <tr>\n",
       "      <th>10</th>\n",
       "      <td>ONLINE_A</td>\n",
       "      <td>3.06</td>\n",
       "    </tr>\n",
       "    <tr>\n",
       "      <th>11</th>\n",
       "      <td>ONLINE_B</td>\n",
       "      <td>3.44</td>\n",
       "    </tr>\n",
       "    <tr>\n",
       "      <th>12</th>\n",
       "      <td>ONLINE_G</td>\n",
       "      <td>3.00</td>\n",
       "    </tr>\n",
       "    <tr>\n",
       "      <th>13</th>\n",
       "      <td>TranssionMT</td>\n",
       "      <td>3.78</td>\n",
       "    </tr>\n",
       "    <tr>\n",
       "      <th>14</th>\n",
       "      <td>Unbabel_Tower70B</td>\n",
       "      <td>3.72</td>\n",
       "    </tr>\n",
       "    <tr>\n",
       "      <th>15</th>\n",
       "      <td>ZMT</td>\n",
       "      <td>3.06</td>\n",
       "    </tr>\n",
       "  </tbody>\n",
       "</table>\n",
       "</div>"
      ],
      "text/plain": [
       "              models  human_score\n",
       "0              Aya23         3.00\n",
       "1         Claude_3_5         3.61\n",
       "2      CommandR_plus         3.44\n",
       "3             CycleL         1.11\n",
       "4              GPT_4         2.78\n",
       "5               IKUN         2.28\n",
       "6             IKUN_C         1.56\n",
       "7       IOL_Research         3.06\n",
       "8         Llama3_70B         3.00\n",
       "9        NVIDIA_NeMo         2.22\n",
       "10          ONLINE_A         3.06\n",
       "11          ONLINE_B         3.44\n",
       "12          ONLINE_G         3.00\n",
       "13       TranssionMT         3.78\n",
       "14  Unbabel_Tower70B         3.72\n",
       "15               ZMT         3.06"
      ]
     },
     "execution_count": 51,
     "metadata": {},
     "output_type": "execute_result"
    }
   ],
   "source": [
    "df_human_model"
   ]
  },
  {
   "cell_type": "code",
   "execution_count": 8,
   "metadata": {},
   "outputs": [],
   "source": [
    "education_df = human[human[\"domain\"] == \"education\"]"
   ]
  },
  {
   "cell_type": "code",
   "execution_count": 52,
   "metadata": {},
   "outputs": [],
   "source": [
    "import matplotlib.pyplot as plt"
   ]
  },
  {
   "cell_type": "code",
   "execution_count": 55,
   "metadata": {},
   "outputs": [
    {
     "data": {
      "image/png": "[encoded data removed]",
      "text/plain": [
       "<Figure size 1000x600 with 1 Axes>"
      ]
     },
     "metadata": {},
     "output_type": "display_data"
    }
   ],
   "source": [
    "# Calculate the mean of the values\n",
    "mean_value = df_human_domain['human_score'].mean()\n",
    "\n",
    "# Create a bar plot\n",
    "plt.figure(figsize=(10, 6))\n",
    "# plt.bar(final_model['file'], final_model['bleu_scores'], color='skyblue', label='Values')\n",
    "\n",
    "bars = plt.bar(df_human_domain['domains'], df_human_domain['human_score'], color='skyblue', label='Values')\n",
    "\n",
    "# Add a line for the mean value\n",
    "plt.axhline(y=mean_value, color='black', linestyle='--', label=f'Mean: {mean_value:.2f}')\n",
    "\n",
    "# Add labels and title\n",
    "plt.xlabel('Domains')\n",
    "plt.ylabel('Scores')\n",
    "plt.title('Domain wise Average Human Scores out of 5')\n",
    "plt.legend()\n",
    "\n",
    "# Rotate x-axis labels to vertical\n",
    "plt.xticks(rotation=90)\n",
    "\n",
    "\n",
    "\n",
    "# # Save the plot to a file\n",
    "# plt.savefig('bar_graph_with_mean_line.png', bbox_inches='tight')\n",
    "# Display the value on each bar\n",
    "for bar in bars:\n",
    "    height = bar.get_height()\n",
    "    plt.text(bar.get_x() + bar.get_width() / 2, height, f'{height:.2f}',\n",
    "             ha='center', va='bottom')\n",
    "    \n",
    "# Show the plot\n",
    "plt.show()"
   ]
  },
  {
   "cell_type": "code",
   "execution_count": 57,
   "metadata": {},
   "outputs": [
    {
     "data": {
      "image/png": "[encoded data removed]",
      "text/plain": [
       "<Figure size 1000x600 with 1 Axes>"
      ]
     },
     "metadata": {},
     "output_type": "display_data"
    }
   ],
   "source": [
    "# Calculate the mean of the values\n",
    "mean_value = df_human_model['human_score'].mean()\n",
    "\n",
    "# Create a bar plot\n",
    "plt.figure(figsize=(10, 6))\n",
    "# plt.bar(final_model['file'], final_model['bleu_scores'], color='skyblue', label='Values')\n",
    "\n",
    "bars = plt.bar(df_human_model['models'], df_human_model['human_score'], color='skyblue', label='Values')\n",
    "\n",
    "# Add a line for the mean value\n",
    "plt.axhline(y=mean_value, color='black', linestyle='--', label=f'Mean: {mean_value:.2f}')\n",
    "\n",
    "# Add labels and title\n",
    "plt.xlabel('Models')\n",
    "plt.ylabel('Scores')\n",
    "plt.title('Model wise Average Human Scores out of 5')\n",
    "plt.legend()\n",
    "\n",
    "# Rotate x-axis labels to vertical\n",
    "plt.xticks(rotation=90)\n",
    "\n",
    "\n",
    "\n",
    "# # Save the plot to a file\n",
    "# plt.savefig('bar_graph_with_mean_line.png', bbox_inches='tight')\n",
    "# Display the value on each bar\n",
    "for bar in bars:\n",
    "    height = bar.get_height()\n",
    "    plt.text(bar.get_x() + bar.get_width() / 2, height, f'{height:.2f}',\n",
    "             ha='center', va='bottom')\n",
    "    \n",
    "# Show the plot\n",
    "plt.show()"
   ]
  },
  {
   "cell_type": "code",
   "execution_count": 39,
   "metadata": {},
   "outputs": [],
   "source": [
    "score = []"
   ]
  },
  {
   "cell_type": "code",
   "execution_count": 40,
   "metadata": {},
   "outputs": [
    {
     "data": {
      "text/plain": [
       "np.int64(2)"
      ]
     },
     "execution_count": 40,
     "metadata": {},
     "output_type": "execute_result"
    }
   ],
   "source": [
    "human[\"rating_out_of_5(Anubhav)\"][0]"
   ]
  },
  {
   "cell_type": "code",
   "execution_count": 96,
   "metadata": {},
   "outputs": [],
   "source": [
    "i = 240"
   ]
  },
  {
   "cell_type": "code",
   "execution_count": 97,
   "metadata": {},
   "outputs": [],
   "source": [
    "score = []\n",
    "for a,b,c in zip(range(i, i+16), range(i+16, i+32), range(i+32, i+48)):\n",
    "    score.append(round((human[\"rating_out_of_5(Anubhav)\"][a] + human[\"rating_out_of_5(Anubhav)\"][b] + human[\"rating_out_of_5(Anubhav)\"][c])/3, 2))"
   ]
  },
  {
   "cell_type": "code",
   "execution_count": 98,
   "metadata": {},
   "outputs": [],
   "source": [
    "review = score"
   ]
  },
  {
   "cell_type": "code",
   "execution_count": 99,
   "metadata": {},
   "outputs": [
    {
     "data": {
      "text/plain": [
       "[np.float64(3.0),\n",
       " np.float64(3.33),\n",
       " np.float64(3.33),\n",
       " np.float64(1.0),\n",
       " np.float64(2.33),\n",
       " np.float64(1.33),\n",
       " np.float64(1.33),\n",
       " np.float64(2.67),\n",
       " np.float64(2.67),\n",
       " np.float64(2.0),\n",
       " np.float64(3.0),\n",
       " np.float64(3.0),\n",
       " np.float64(4.0),\n",
       " np.float64(3.33),\n",
       " np.float64(4.0),\n",
       " np.float64(3.0)]"
      ]
     },
     "execution_count": 99,
     "metadata": {},
     "output_type": "execute_result"
    }
   ],
   "source": [
    "review"
   ]
  },
  {
   "cell_type": "code",
   "execution_count": 95,
   "metadata": {},
   "outputs": [
    {
     "data": {
      "text/plain": [
       "[np.float64(3.0),\n",
       " np.float64(4.33),\n",
       " np.float64(3.67),\n",
       " np.float64(1.0),\n",
       " np.float64(3.67),\n",
       " np.float64(2.33),\n",
       " np.float64(2.0),\n",
       " np.float64(3.33),\n",
       " np.float64(3.67),\n",
       " np.float64(2.33),\n",
       " np.float64(3.0),\n",
       " np.float64(2.67),\n",
       " np.float64(3.33),\n",
       " np.float64(3.67),\n",
       " np.float64(3.0),\n",
       " np.float64(2.67)]"
      ]
     },
     "execution_count": 95,
     "metadata": {},
     "output_type": "execute_result"
    }
   ],
   "source": [
    "noisy"
   ]
  },
  {
   "cell_type": "code",
   "execution_count": 91,
   "metadata": {},
   "outputs": [
    {
     "data": {
      "text/plain": [
       "[np.float64(2.67),\n",
       " np.float64(3.33),\n",
       " np.float64(3.33),\n",
       " np.float64(1.0),\n",
       " np.float64(2.67),\n",
       " np.float64(2.0),\n",
       " np.float64(1.33),\n",
       " np.float64(3.0),\n",
       " np.float64(2.67),\n",
       " np.float64(1.0),\n",
       " np.float64(2.0),\n",
       " np.float64(3.33),\n",
       " np.float64(1.67),\n",
       " np.float64(3.33),\n",
       " np.float64(2.67),\n",
       " np.float64(1.67)]"
      ]
     },
     "execution_count": 91,
     "metadata": {},
     "output_type": "execute_result"
    }
   ],
   "source": [
    "literature"
   ]
  },
  {
   "cell_type": "code",
   "execution_count": 87,
   "metadata": {},
   "outputs": [
    {
     "data": {
      "text/plain": [
       "[np.float64(4.0),\n",
       " np.float64(3.67),\n",
       " np.float64(3.0),\n",
       " np.float64(1.0),\n",
       " np.float64(2.67),\n",
       " np.float64(2.33),\n",
       " np.float64(1.0),\n",
       " np.float64(3.33),\n",
       " np.float64(3.0),\n",
       " np.float64(1.33),\n",
       " np.float64(3.33),\n",
       " np.float64(3.67),\n",
       " np.float64(2.67),\n",
       " np.float64(4.0),\n",
       " np.float64(3.67),\n",
       " np.float64(3.33)]"
      ]
     },
     "execution_count": 87,
     "metadata": {},
     "output_type": "execute_result"
    }
   ],
   "source": [
    "judicial"
   ]
  },
  {
   "cell_type": "code",
   "execution_count": 83,
   "metadata": {},
   "outputs": [
    {
     "data": {
      "text/plain": [
       "[np.float64(3.33),\n",
       " np.float64(3.67),\n",
       " np.float64(3.67),\n",
       " np.float64(1.33),\n",
       " np.float64(2.67),\n",
       " np.float64(3.0),\n",
       " np.float64(2.33),\n",
       " np.float64(4.0),\n",
       " np.float64(3.0),\n",
       " np.float64(3.67),\n",
       " np.float64(4.0),\n",
       " np.float64(4.0),\n",
       " np.float64(3.67),\n",
       " np.float64(4.67),\n",
       " np.float64(4.67),\n",
       " np.float64(4.0)]"
      ]
     },
     "execution_count": 83,
     "metadata": {},
     "output_type": "execute_result"
    }
   ],
   "source": [
    "general"
   ]
  },
  {
   "cell_type": "code",
   "execution_count": 79,
   "metadata": {},
   "outputs": [
    {
     "data": {
      "text/plain": [
       "[np.float64(2.0),\n",
       " np.float64(3.33),\n",
       " np.float64(3.67),\n",
       " np.float64(1.33),\n",
       " np.float64(2.67),\n",
       " np.float64(2.67),\n",
       " np.float64(1.33),\n",
       " np.float64(2.0),\n",
       " np.float64(3.0),\n",
       " np.float64(3.0),\n",
       " np.float64(3.0),\n",
       " np.float64(4.0),\n",
       " np.float64(2.67),\n",
       " np.float64(3.67),\n",
       " np.float64(4.33),\n",
       " np.float64(3.67)]"
      ]
     },
     "execution_count": 79,
     "metadata": {},
     "output_type": "execute_result"
    }
   ],
   "source": [
    "education"
   ]
  },
  {
   "cell_type": "code",
   "execution_count": 60,
   "metadata": {},
   "outputs": [
    {
     "data": {
      "text/plain": [
       "[]"
      ]
     },
     "execution_count": 60,
     "metadata": {},
     "output_type": "execute_result"
    }
   ],
   "source": [
    "general"
   ]
  },
  {
   "cell_type": "code",
   "execution_count": 21,
   "metadata": {},
   "outputs": [
    {
     "data": {
      "text/plain": [
       "np.int64(3)"
      ]
     },
     "execution_count": 21,
     "metadata": {},
     "output_type": "execute_result"
    }
   ],
   "source": [
    "human[\"rating_out_of_5(Anubhav)\"][1]"
   ]
  },
  {
   "cell_type": "code",
   "execution_count": null,
   "metadata": {},
   "outputs": [],
   "source": []
  }
 ],
 "metadata": {
  "kernelspec": {
   "display_name": "Python 3",
   "language": "python",
   "name": "python3"
  },
  "language_info": {
   "codemirror_mode": {
    "name": "ipython",
    "version": 3
   },
   "file_extension": ".py",
   "mimetype": "text/x-python",
   "name": "python",
   "nbconvert_exporter": "python",
   "pygments_lexer": "ipython3",
   "version": "3.10.12"
  }
 },
 "nbformat": 4,
 "nbformat_minor": 2
}
