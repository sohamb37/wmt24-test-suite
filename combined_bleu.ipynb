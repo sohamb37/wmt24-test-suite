{
 "cells": [
  {
   "cell_type": "code",
   "execution_count": 15,
   "metadata": {},
   "outputs": [
    {
     "name": "stderr",
     "output_type": "stream",
     "text": [
      "/home/soham37/.local/lib/python3.10/site-packages/numpy/_core/fromnumeric.py:57: FutureWarning: 'DataFrame.swapaxes' is deprecated and will be removed in a future version. Please use 'DataFrame.transpose' instead.\n",
      "  return bound(*args, **kwds)\n"
     ]
    }
   ],
   "source": [
    "import pandas as pd\n",
    "import numpy as np\n",
    "import statistics\n",
    "\n",
    "# Assuming your dataframe is named df\n",
    "df = pd.read_csv(\"/home/soham37/Downloads/xCOMET/xCOMET/bleu_scores.csv\")\n",
    "# Split the dataframe into 6 chunks of 16 rows each\n",
    "chunks = np.array_split(df, 6)"
   ]
  },
  {
   "cell_type": "code",
   "execution_count": 30,
   "metadata": {},
   "outputs": [
    {
     "data": {
      "text/plain": [
       "[                          file  bleu_scores\n",
       " 0              education_Aya23        36.40\n",
       " 1         education_Claude_3_5        46.04\n",
       " 2      education_CommandR_plus        35.33\n",
       " 3             education_CycleL         0.38\n",
       " 4              education_GPT_4        40.90\n",
       " 5               education_IKUN        28.99\n",
       " 6             education_IKUN_C        28.62\n",
       " 7       education_IOL_Research        40.47\n",
       " 8         education_Llama3_70B        40.73\n",
       " 9        education_NVIDIA_NeMo        45.12\n",
       " 10          education_ONLINE_A        50.27\n",
       " 11          education_ONLINE_B        46.19\n",
       " 12          education_ONLINE_G        46.19\n",
       " 13       education_TranssionMT        46.70\n",
       " 14  education_Unbabel_Tower70B        44.22\n",
       " 15               education_ZMT        50.27,\n",
       "                         file  bleu_scores\n",
       " 16             general_Aya23        14.13\n",
       " 17        general_Claude_3_5        19.02\n",
       " 18     general_CommandR_plus        14.39\n",
       " 19            general_CycleL         1.21\n",
       " 20             general_GPT_4        14.68\n",
       " 21              general_IKUN        11.60\n",
       " 22            general_IKUN_C        11.99\n",
       " 23      general_IOL_Research        15.41\n",
       " 24        general_Llama3_70B        15.58\n",
       " 25       general_NVIDIA_NeMo        18.12\n",
       " 26          general_ONLINE_A        19.84\n",
       " 27          general_ONLINE_B        21.36\n",
       " 28          general_ONLINE_G        16.49\n",
       " 29       general_TranssionMT        21.39\n",
       " 30  general_Unbabel_Tower70B        20.50\n",
       " 31               general_ZMT        19.83,\n",
       "                          file  bleu_scores\n",
       " 32             judicial_Aya23        17.07\n",
       " 33        judicial_Claude_3_5        25.62\n",
       " 34     judicial_CommandR_plus        17.64\n",
       " 35            judicial_CycleL         0.79\n",
       " 36             judicial_GPT_4        18.45\n",
       " 37              judicial_IKUN         8.21\n",
       " 38            judicial_IKUN_C         6.95\n",
       " 39      judicial_IOL_Research        19.12\n",
       " 40        judicial_Llama3_70B        21.27\n",
       " 41       judicial_NVIDIA_NeMo        21.21\n",
       " 42          judicial_ONLINE_A        25.02\n",
       " 43          judicial_ONLINE_B        25.20\n",
       " 44          judicial_ONLINE_G        27.33\n",
       " 45       judicial_TranssionMT        25.25\n",
       " 46  judicial_Unbabel_Tower70B        22.04\n",
       " 47               judicial_ZMT        25.01,\n",
       "                            file  bleu_scores\n",
       " 48             literature_Aya23         8.34\n",
       " 49        literature_Claude_3_5        15.11\n",
       " 50     literature_CommandR_plus        10.32\n",
       " 51            literature_CycleL         0.21\n",
       " 52             literature_GPT_4         7.95\n",
       " 53              literature_IKUN         4.85\n",
       " 54            literature_IKUN_C         4.80\n",
       " 55      literature_IOL_Research         6.82\n",
       " 56        literature_Llama3_70B         9.51\n",
       " 57       literature_NVIDIA_NeMo        16.65\n",
       " 58          literature_ONLINE_A        20.34\n",
       " 59          literature_ONLINE_B        26.21\n",
       " 60          literature_ONLINE_G         8.56\n",
       " 61       literature_TranssionMT        26.27\n",
       " 62  literature_Unbabel_Tower70B        20.03\n",
       " 63               literature_ZMT        20.34,\n",
       "                       file  bleu_scores\n",
       " 64             noisy_Aya23        31.76\n",
       " 65        noisy_Claude_3_5        42.49\n",
       " 66     noisy_CommandR_plus        31.35\n",
       " 67            noisy_CycleL         0.82\n",
       " 68             noisy_GPT_4        35.43\n",
       " 69              noisy_IKUN        19.99\n",
       " 70            noisy_IKUN_C        18.89\n",
       " 71      noisy_IOL_Research        39.79\n",
       " 72        noisy_Llama3_70B        34.73\n",
       " 73       noisy_NVIDIA_NeMo        37.32\n",
       " 74          noisy_ONLINE_A        52.55\n",
       " 75          noisy_ONLINE_B        51.51\n",
       " 76          noisy_ONLINE_G        44.13\n",
       " 77       noisy_TranssionMT        51.71\n",
       " 78  noisy_Unbabel_Tower70B        40.86\n",
       " 79               noisy_ZMT        52.55,\n",
       "                        file  bleu_scores\n",
       " 80             review_Aya23        30.82\n",
       " 81        review_Claude_3_5        36.45\n",
       " 82     review_CommandR_plus        26.49\n",
       " 83            review_CycleL         0.33\n",
       " 84             review_GPT_4        33.66\n",
       " 85              review_IKUN        19.09\n",
       " 86            review_IKUN_C        16.48\n",
       " 87      review_IOL_Research        33.23\n",
       " 88        review_Llama3_70B        33.16\n",
       " 89       review_NVIDIA_NeMo        41.07\n",
       " 90          review_ONLINE_A        46.78\n",
       " 91          review_ONLINE_B        41.55\n",
       " 92          review_ONLINE_G        55.29\n",
       " 93       review_TranssionMT        41.58\n",
       " 94  review_Unbabel_Tower70B        35.42\n",
       " 95               review_ZMT        46.78]"
      ]
     },
     "execution_count": 30,
     "metadata": {},
     "output_type": "execute_result"
    }
   ],
   "source": [
    "chunks"
   ]
  },
  {
   "cell_type": "code",
   "execution_count": 42,
   "metadata": {},
   "outputs": [],
   "source": [
    "result = [(a + b + c + d + e + f)/6 for a, b, c, d, e, f in zip(chunks[0][\"bleu_scores\"], chunks[1][\"bleu_scores\"], chunks[2][\"bleu_scores\"], chunks[3][\"bleu_scores\"], chunks[4][\"bleu_scores\"], chunks[5][\"bleu_scores\"])]"
   ]
  },
  {
   "cell_type": "code",
   "execution_count": 49,
   "metadata": {},
   "outputs": [],
   "source": [
    "res = [round(i, 2) for i in  result]"
   ]
  },
  {
   "cell_type": "code",
   "execution_count": 52,
   "metadata": {},
   "outputs": [],
   "source": [
    "file = [\"Aya23\", \"Claude_3_5\", \"CommandR_plus\", \"CycleL\", \"GPT_4\", \"IKUN\", \"IKUN_C\", \"IOL_Research\", \"Llama3_70B\", \"NVIDIA_NeMo\", \"ONLINE_A\", \"ONLINE_B\", \"ONLINE_G\", \"TranssionMT\", \"Unbabel_Tower70B\", \"ZMT\"]"
   ]
  },
  {
   "cell_type": "code",
   "execution_count": 50,
   "metadata": {},
   "outputs": [
    {
     "data": {
      "text/plain": [
       "[23.09,\n",
       " 30.79,\n",
       " 22.59,\n",
       " 0.62,\n",
       " 25.18,\n",
       " 15.46,\n",
       " 14.62,\n",
       " 25.81,\n",
       " 25.83,\n",
       " 29.91,\n",
       " 35.8,\n",
       " 35.34,\n",
       " 33.0,\n",
       " 35.48,\n",
       " 30.51,\n",
       " 35.8]"
      ]
     },
     "execution_count": 50,
     "metadata": {},
     "output_type": "execute_result"
    }
   ],
   "source": [
    "res"
   ]
  },
  {
   "cell_type": "code",
   "execution_count": 54,
   "metadata": {},
   "outputs": [],
   "source": [
    "final_model = pd.DataFrame({\"file\": file, \"bleu_scores\": res})"
   ]
  },
  {
   "cell_type": "code",
   "execution_count": 34,
   "metadata": {},
   "outputs": [],
   "source": [
    "from functools import reduce"
   ]
  },
  {
   "cell_type": "code",
   "execution_count": 38,
   "metadata": {},
   "outputs": [
    {
     "data": {
      "text/html": [
       "<div>\n",
       "<style scoped>\n",
       "    .dataframe tbody tr th:only-of-type {\n",
       "        vertical-align: middle;\n",
       "    }\n",
       "\n",
       "    .dataframe tbody tr th {\n",
       "        vertical-align: top;\n",
       "    }\n",
       "\n",
       "    .dataframe thead th {\n",
       "        text-align: right;\n",
       "    }\n",
       "</style>\n",
       "<table border=\"1\" class=\"dataframe\">\n",
       "  <thead>\n",
       "    <tr style=\"text-align: right;\">\n",
       "      <th></th>\n",
       "      <th>file</th>\n",
       "      <th>bleu_scores</th>\n",
       "    </tr>\n",
       "  </thead>\n",
       "  <tbody>\n",
       "    <tr>\n",
       "      <th>0</th>\n",
       "      <td>education_Aya23</td>\n",
       "      <td>36.40</td>\n",
       "    </tr>\n",
       "    <tr>\n",
       "      <th>1</th>\n",
       "      <td>education_Claude_3_5</td>\n",
       "      <td>46.04</td>\n",
       "    </tr>\n",
       "    <tr>\n",
       "      <th>2</th>\n",
       "      <td>education_CommandR_plus</td>\n",
       "      <td>35.33</td>\n",
       "    </tr>\n",
       "    <tr>\n",
       "      <th>3</th>\n",
       "      <td>education_CycleL</td>\n",
       "      <td>0.38</td>\n",
       "    </tr>\n",
       "    <tr>\n",
       "      <th>4</th>\n",
       "      <td>education_GPT_4</td>\n",
       "      <td>40.90</td>\n",
       "    </tr>\n",
       "    <tr>\n",
       "      <th>5</th>\n",
       "      <td>education_IKUN</td>\n",
       "      <td>28.99</td>\n",
       "    </tr>\n",
       "    <tr>\n",
       "      <th>6</th>\n",
       "      <td>education_IKUN_C</td>\n",
       "      <td>28.62</td>\n",
       "    </tr>\n",
       "    <tr>\n",
       "      <th>7</th>\n",
       "      <td>education_IOL_Research</td>\n",
       "      <td>40.47</td>\n",
       "    </tr>\n",
       "    <tr>\n",
       "      <th>8</th>\n",
       "      <td>education_Llama3_70B</td>\n",
       "      <td>40.73</td>\n",
       "    </tr>\n",
       "    <tr>\n",
       "      <th>9</th>\n",
       "      <td>education_NVIDIA_NeMo</td>\n",
       "      <td>45.12</td>\n",
       "    </tr>\n",
       "    <tr>\n",
       "      <th>10</th>\n",
       "      <td>education_ONLINE_A</td>\n",
       "      <td>50.27</td>\n",
       "    </tr>\n",
       "    <tr>\n",
       "      <th>11</th>\n",
       "      <td>education_ONLINE_B</td>\n",
       "      <td>46.19</td>\n",
       "    </tr>\n",
       "    <tr>\n",
       "      <th>12</th>\n",
       "      <td>education_ONLINE_G</td>\n",
       "      <td>46.19</td>\n",
       "    </tr>\n",
       "    <tr>\n",
       "      <th>13</th>\n",
       "      <td>education_TranssionMT</td>\n",
       "      <td>46.70</td>\n",
       "    </tr>\n",
       "    <tr>\n",
       "      <th>14</th>\n",
       "      <td>education_Unbabel_Tower70B</td>\n",
       "      <td>44.22</td>\n",
       "    </tr>\n",
       "    <tr>\n",
       "      <th>15</th>\n",
       "      <td>education_ZMT</td>\n",
       "      <td>50.27</td>\n",
       "    </tr>\n",
       "  </tbody>\n",
       "</table>\n",
       "</div>"
      ],
      "text/plain": [
       "                          file  bleu_scores\n",
       "0              education_Aya23        36.40\n",
       "1         education_Claude_3_5        46.04\n",
       "2      education_CommandR_plus        35.33\n",
       "3             education_CycleL         0.38\n",
       "4              education_GPT_4        40.90\n",
       "5               education_IKUN        28.99\n",
       "6             education_IKUN_C        28.62\n",
       "7       education_IOL_Research        40.47\n",
       "8         education_Llama3_70B        40.73\n",
       "9        education_NVIDIA_NeMo        45.12\n",
       "10          education_ONLINE_A        50.27\n",
       "11          education_ONLINE_B        46.19\n",
       "12          education_ONLINE_G        46.19\n",
       "13       education_TranssionMT        46.70\n",
       "14  education_Unbabel_Tower70B        44.22\n",
       "15               education_ZMT        50.27"
      ]
     },
     "execution_count": 38,
     "metadata": {},
     "output_type": "execute_result"
    }
   ],
   "source": [
    "chunks[0]"
   ]
  },
  {
   "cell_type": "code",
   "execution_count": 36,
   "metadata": {},
   "outputs": [],
   "source": [
    "final_df = pd.merge(chunks[0], chunks[1], on = \"file\")"
   ]
  },
  {
   "cell_type": "code",
   "execution_count": 37,
   "metadata": {},
   "outputs": [
    {
     "data": {
      "text/html": [
       "<div>\n",
       "<style scoped>\n",
       "    .dataframe tbody tr th:only-of-type {\n",
       "        vertical-align: middle;\n",
       "    }\n",
       "\n",
       "    .dataframe tbody tr th {\n",
       "        vertical-align: top;\n",
       "    }\n",
       "\n",
       "    .dataframe thead th {\n",
       "        text-align: right;\n",
       "    }\n",
       "</style>\n",
       "<table border=\"1\" class=\"dataframe\">\n",
       "  <thead>\n",
       "    <tr style=\"text-align: right;\">\n",
       "      <th></th>\n",
       "      <th>file</th>\n",
       "      <th>bleu_scores_x</th>\n",
       "      <th>bleu_scores_y</th>\n",
       "    </tr>\n",
       "  </thead>\n",
       "  <tbody>\n",
       "  </tbody>\n",
       "</table>\n",
       "</div>"
      ],
      "text/plain": [
       "Empty DataFrame\n",
       "Columns: [file, bleu_scores_x, bleu_scores_y]\n",
       "Index: []"
      ]
     },
     "execution_count": 37,
     "metadata": {},
     "output_type": "execute_result"
    }
   ],
   "source": [
    "final_df"
   ]
  },
  {
   "cell_type": "code",
   "execution_count": 33,
   "metadata": {},
   "outputs": [
    {
     "data": {
      "text/plain": [
       "list"
      ]
     },
     "execution_count": 33,
     "metadata": {},
     "output_type": "execute_result"
    }
   ],
   "source": [
    "type(chunks)"
   ]
  },
  {
   "cell_type": "code",
   "execution_count": 35,
   "metadata": {},
   "outputs": [
    {
     "ename": "MergeError",
     "evalue": "Passing 'suffixes' which cause duplicate columns {'bleu_scores_x'} is not allowed.",
     "output_type": "error",
     "traceback": [
      "\u001b[0;31m---------------------------------------------------------------------------\u001b[0m",
      "\u001b[0;31mMergeError\u001b[0m                                Traceback (most recent call last)",
      "Cell \u001b[0;32mIn[35], line 2\u001b[0m\n\u001b[1;32m      1\u001b[0m \u001b[38;5;66;03m# Merge all dataframes on \"names\"\u001b[39;00m\n\u001b[0;32m----> 2\u001b[0m final_df \u001b[38;5;241m=\u001b[39m \u001b[43mreduce\u001b[49m\u001b[43m(\u001b[49m\u001b[38;5;28;43;01mlambda\u001b[39;49;00m\u001b[43m \u001b[49m\u001b[43mleft\u001b[49m\u001b[43m,\u001b[49m\u001b[43m \u001b[49m\u001b[43mright\u001b[49m\u001b[43m:\u001b[49m\u001b[43m \u001b[49m\u001b[43mpd\u001b[49m\u001b[38;5;241;43m.\u001b[39;49m\u001b[43mmerge\u001b[49m\u001b[43m(\u001b[49m\u001b[43mleft\u001b[49m\u001b[43m,\u001b[49m\u001b[43m \u001b[49m\u001b[43mright\u001b[49m\u001b[43m,\u001b[49m\u001b[43m \u001b[49m\u001b[43mon\u001b[49m\u001b[38;5;241;43m=\u001b[39;49m\u001b[38;5;124;43m\"\u001b[39;49m\u001b[38;5;124;43mfile\u001b[39;49m\u001b[38;5;124;43m\"\u001b[39;49m\u001b[43m)\u001b[49m\u001b[43m,\u001b[49m\u001b[43m \u001b[49m\u001b[43mchunks\u001b[49m\u001b[43m)\u001b[49m\n",
      "Cell \u001b[0;32mIn[35], line 2\u001b[0m, in \u001b[0;36m<lambda>\u001b[0;34m(left, right)\u001b[0m\n\u001b[1;32m      1\u001b[0m \u001b[38;5;66;03m# Merge all dataframes on \"names\"\u001b[39;00m\n\u001b[0;32m----> 2\u001b[0m final_df \u001b[38;5;241m=\u001b[39m reduce(\u001b[38;5;28;01mlambda\u001b[39;00m left, right: \u001b[43mpd\u001b[49m\u001b[38;5;241;43m.\u001b[39;49m\u001b[43mmerge\u001b[49m\u001b[43m(\u001b[49m\u001b[43mleft\u001b[49m\u001b[43m,\u001b[49m\u001b[43m \u001b[49m\u001b[43mright\u001b[49m\u001b[43m,\u001b[49m\u001b[43m \u001b[49m\u001b[43mon\u001b[49m\u001b[38;5;241;43m=\u001b[39;49m\u001b[38;5;124;43m\"\u001b[39;49m\u001b[38;5;124;43mfile\u001b[39;49m\u001b[38;5;124;43m\"\u001b[39;49m\u001b[43m)\u001b[49m, chunks)\n",
      "File \u001b[0;32m~/.local/lib/python3.10/site-packages/pandas/core/reshape/merge.py:184\u001b[0m, in \u001b[0;36mmerge\u001b[0;34m(left, right, how, on, left_on, right_on, left_index, right_index, sort, suffixes, copy, indicator, validate)\u001b[0m\n\u001b[1;32m    169\u001b[0m \u001b[38;5;28;01melse\u001b[39;00m:\n\u001b[1;32m    170\u001b[0m     op \u001b[38;5;241m=\u001b[39m _MergeOperation(\n\u001b[1;32m    171\u001b[0m         left_df,\n\u001b[1;32m    172\u001b[0m         right_df,\n\u001b[0;32m   (...)\u001b[0m\n\u001b[1;32m    182\u001b[0m         validate\u001b[38;5;241m=\u001b[39mvalidate,\n\u001b[1;32m    183\u001b[0m     )\n\u001b[0;32m--> 184\u001b[0m     \u001b[38;5;28;01mreturn\u001b[39;00m \u001b[43mop\u001b[49m\u001b[38;5;241;43m.\u001b[39;49m\u001b[43mget_result\u001b[49m\u001b[43m(\u001b[49m\u001b[43mcopy\u001b[49m\u001b[38;5;241;43m=\u001b[39;49m\u001b[43mcopy\u001b[49m\u001b[43m)\u001b[49m\n",
      "File \u001b[0;32m~/.local/lib/python3.10/site-packages/pandas/core/reshape/merge.py:888\u001b[0m, in \u001b[0;36m_MergeOperation.get_result\u001b[0;34m(self, copy)\u001b[0m\n\u001b[1;32m    884\u001b[0m     \u001b[38;5;28mself\u001b[39m\u001b[38;5;241m.\u001b[39mleft, \u001b[38;5;28mself\u001b[39m\u001b[38;5;241m.\u001b[39mright \u001b[38;5;241m=\u001b[39m \u001b[38;5;28mself\u001b[39m\u001b[38;5;241m.\u001b[39m_indicator_pre_merge(\u001b[38;5;28mself\u001b[39m\u001b[38;5;241m.\u001b[39mleft, \u001b[38;5;28mself\u001b[39m\u001b[38;5;241m.\u001b[39mright)\n\u001b[1;32m    886\u001b[0m join_index, left_indexer, right_indexer \u001b[38;5;241m=\u001b[39m \u001b[38;5;28mself\u001b[39m\u001b[38;5;241m.\u001b[39m_get_join_info()\n\u001b[0;32m--> 888\u001b[0m result \u001b[38;5;241m=\u001b[39m \u001b[38;5;28;43mself\u001b[39;49m\u001b[38;5;241;43m.\u001b[39;49m\u001b[43m_reindex_and_concat\u001b[49m\u001b[43m(\u001b[49m\n\u001b[1;32m    889\u001b[0m \u001b[43m    \u001b[49m\u001b[43mjoin_index\u001b[49m\u001b[43m,\u001b[49m\u001b[43m \u001b[49m\u001b[43mleft_indexer\u001b[49m\u001b[43m,\u001b[49m\u001b[43m \u001b[49m\u001b[43mright_indexer\u001b[49m\u001b[43m,\u001b[49m\u001b[43m \u001b[49m\u001b[43mcopy\u001b[49m\u001b[38;5;241;43m=\u001b[39;49m\u001b[43mcopy\u001b[49m\n\u001b[1;32m    890\u001b[0m \u001b[43m\u001b[49m\u001b[43m)\u001b[49m\n\u001b[1;32m    891\u001b[0m result \u001b[38;5;241m=\u001b[39m result\u001b[38;5;241m.\u001b[39m__finalize__(\u001b[38;5;28mself\u001b[39m, method\u001b[38;5;241m=\u001b[39m\u001b[38;5;28mself\u001b[39m\u001b[38;5;241m.\u001b[39m_merge_type)\n\u001b[1;32m    893\u001b[0m \u001b[38;5;28;01mif\u001b[39;00m \u001b[38;5;28mself\u001b[39m\u001b[38;5;241m.\u001b[39mindicator:\n",
      "File \u001b[0;32m~/.local/lib/python3.10/site-packages/pandas/core/reshape/merge.py:840\u001b[0m, in \u001b[0;36m_MergeOperation._reindex_and_concat\u001b[0;34m(self, join_index, left_indexer, right_indexer, copy)\u001b[0m\n\u001b[1;32m    837\u001b[0m left \u001b[38;5;241m=\u001b[39m \u001b[38;5;28mself\u001b[39m\u001b[38;5;241m.\u001b[39mleft[:]\n\u001b[1;32m    838\u001b[0m right \u001b[38;5;241m=\u001b[39m \u001b[38;5;28mself\u001b[39m\u001b[38;5;241m.\u001b[39mright[:]\n\u001b[0;32m--> 840\u001b[0m llabels, rlabels \u001b[38;5;241m=\u001b[39m \u001b[43m_items_overlap_with_suffix\u001b[49m\u001b[43m(\u001b[49m\n\u001b[1;32m    841\u001b[0m \u001b[43m    \u001b[49m\u001b[38;5;28;43mself\u001b[39;49m\u001b[38;5;241;43m.\u001b[39;49m\u001b[43mleft\u001b[49m\u001b[38;5;241;43m.\u001b[39;49m\u001b[43m_info_axis\u001b[49m\u001b[43m,\u001b[49m\u001b[43m \u001b[49m\u001b[38;5;28;43mself\u001b[39;49m\u001b[38;5;241;43m.\u001b[39;49m\u001b[43mright\u001b[49m\u001b[38;5;241;43m.\u001b[39;49m\u001b[43m_info_axis\u001b[49m\u001b[43m,\u001b[49m\u001b[43m \u001b[49m\u001b[38;5;28;43mself\u001b[39;49m\u001b[38;5;241;43m.\u001b[39;49m\u001b[43msuffixes\u001b[49m\n\u001b[1;32m    842\u001b[0m \u001b[43m\u001b[49m\u001b[43m)\u001b[49m\n\u001b[1;32m    844\u001b[0m \u001b[38;5;28;01mif\u001b[39;00m left_indexer \u001b[38;5;129;01mis\u001b[39;00m \u001b[38;5;129;01mnot\u001b[39;00m \u001b[38;5;28;01mNone\u001b[39;00m \u001b[38;5;129;01mand\u001b[39;00m \u001b[38;5;129;01mnot\u001b[39;00m is_range_indexer(left_indexer, \u001b[38;5;28mlen\u001b[39m(left)):\n\u001b[1;32m    845\u001b[0m     \u001b[38;5;66;03m# Pinning the index here (and in the right code just below) is not\u001b[39;00m\n\u001b[1;32m    846\u001b[0m     \u001b[38;5;66;03m#  necessary, but makes the `.take` more performant if we have e.g.\u001b[39;00m\n\u001b[1;32m    847\u001b[0m     \u001b[38;5;66;03m#  a MultiIndex for left.index.\u001b[39;00m\n\u001b[1;32m    848\u001b[0m     lmgr \u001b[38;5;241m=\u001b[39m left\u001b[38;5;241m.\u001b[39m_mgr\u001b[38;5;241m.\u001b[39mreindex_indexer(\n\u001b[1;32m    849\u001b[0m         join_index,\n\u001b[1;32m    850\u001b[0m         left_indexer,\n\u001b[0;32m   (...)\u001b[0m\n\u001b[1;32m    855\u001b[0m         use_na_proxy\u001b[38;5;241m=\u001b[39m\u001b[38;5;28;01mTrue\u001b[39;00m,\n\u001b[1;32m    856\u001b[0m     )\n",
      "File \u001b[0;32m~/.local/lib/python3.10/site-packages/pandas/core/reshape/merge.py:2757\u001b[0m, in \u001b[0;36m_items_overlap_with_suffix\u001b[0;34m(left, right, suffixes)\u001b[0m\n\u001b[1;32m   2755\u001b[0m     dups\u001b[38;5;241m.\u001b[39mextend(rlabels[(rlabels\u001b[38;5;241m.\u001b[39mduplicated()) \u001b[38;5;241m&\u001b[39m (\u001b[38;5;241m~\u001b[39mright\u001b[38;5;241m.\u001b[39mduplicated())]\u001b[38;5;241m.\u001b[39mtolist())\n\u001b[1;32m   2756\u001b[0m \u001b[38;5;28;01mif\u001b[39;00m dups:\n\u001b[0;32m-> 2757\u001b[0m     \u001b[38;5;28;01mraise\u001b[39;00m MergeError(\n\u001b[1;32m   2758\u001b[0m         \u001b[38;5;124mf\u001b[39m\u001b[38;5;124m\"\u001b[39m\u001b[38;5;124mPassing \u001b[39m\u001b[38;5;124m'\u001b[39m\u001b[38;5;124msuffixes\u001b[39m\u001b[38;5;124m'\u001b[39m\u001b[38;5;124m which cause duplicate columns \u001b[39m\u001b[38;5;132;01m{\u001b[39;00m\u001b[38;5;28mset\u001b[39m(dups)\u001b[38;5;132;01m}\u001b[39;00m\u001b[38;5;124m is \u001b[39m\u001b[38;5;124m\"\u001b[39m\n\u001b[1;32m   2759\u001b[0m         \u001b[38;5;124mf\u001b[39m\u001b[38;5;124m\"\u001b[39m\u001b[38;5;124mnot allowed.\u001b[39m\u001b[38;5;124m\"\u001b[39m,\n\u001b[1;32m   2760\u001b[0m     )\n\u001b[1;32m   2762\u001b[0m \u001b[38;5;28;01mreturn\u001b[39;00m llabels, rlabels\n",
      "\u001b[0;31mMergeError\u001b[0m: Passing 'suffixes' which cause duplicate columns {'bleu_scores_x'} is not allowed."
     ]
    }
   ],
   "source": [
    "# Merge all dataframes on \"names\"\n",
    "final_df = reduce(lambda left, right: pd.merge(left, right, on=\"file\"), chunks)"
   ]
  },
  {
   "cell_type": "code",
   "execution_count": 55,
   "metadata": {},
   "outputs": [
    {
     "data": {
      "text/html": [
       "<div>\n",
       "<style scoped>\n",
       "    .dataframe tbody tr th:only-of-type {\n",
       "        vertical-align: middle;\n",
       "    }\n",
       "\n",
       "    .dataframe tbody tr th {\n",
       "        vertical-align: top;\n",
       "    }\n",
       "\n",
       "    .dataframe thead th {\n",
       "        text-align: right;\n",
       "    }\n",
       "</style>\n",
       "<table border=\"1\" class=\"dataframe\">\n",
       "  <thead>\n",
       "    <tr style=\"text-align: right;\">\n",
       "      <th></th>\n",
       "      <th>file</th>\n",
       "      <th>bleu_scores</th>\n",
       "    </tr>\n",
       "  </thead>\n",
       "  <tbody>\n",
       "    <tr>\n",
       "      <th>0</th>\n",
       "      <td>Aya23</td>\n",
       "      <td>23.09</td>\n",
       "    </tr>\n",
       "    <tr>\n",
       "      <th>1</th>\n",
       "      <td>Claude_3_5</td>\n",
       "      <td>30.79</td>\n",
       "    </tr>\n",
       "    <tr>\n",
       "      <th>2</th>\n",
       "      <td>CommandR_plus</td>\n",
       "      <td>22.59</td>\n",
       "    </tr>\n",
       "    <tr>\n",
       "      <th>3</th>\n",
       "      <td>CycleL</td>\n",
       "      <td>0.62</td>\n",
       "    </tr>\n",
       "    <tr>\n",
       "      <th>4</th>\n",
       "      <td>GPT_4</td>\n",
       "      <td>25.18</td>\n",
       "    </tr>\n",
       "    <tr>\n",
       "      <th>5</th>\n",
       "      <td>IKUN</td>\n",
       "      <td>15.46</td>\n",
       "    </tr>\n",
       "    <tr>\n",
       "      <th>6</th>\n",
       "      <td>IKUN_C</td>\n",
       "      <td>14.62</td>\n",
       "    </tr>\n",
       "    <tr>\n",
       "      <th>7</th>\n",
       "      <td>IOL_Research</td>\n",
       "      <td>25.81</td>\n",
       "    </tr>\n",
       "    <tr>\n",
       "      <th>8</th>\n",
       "      <td>Llama3_70B</td>\n",
       "      <td>25.83</td>\n",
       "    </tr>\n",
       "    <tr>\n",
       "      <th>9</th>\n",
       "      <td>NVIDIA_NeMo</td>\n",
       "      <td>29.91</td>\n",
       "    </tr>\n",
       "    <tr>\n",
       "      <th>10</th>\n",
       "      <td>ONLINE_A</td>\n",
       "      <td>35.80</td>\n",
       "    </tr>\n",
       "    <tr>\n",
       "      <th>11</th>\n",
       "      <td>ONLINE_B</td>\n",
       "      <td>35.34</td>\n",
       "    </tr>\n",
       "    <tr>\n",
       "      <th>12</th>\n",
       "      <td>ONLINE_G</td>\n",
       "      <td>33.00</td>\n",
       "    </tr>\n",
       "    <tr>\n",
       "      <th>13</th>\n",
       "      <td>TranssionMT</td>\n",
       "      <td>35.48</td>\n",
       "    </tr>\n",
       "    <tr>\n",
       "      <th>14</th>\n",
       "      <td>Unbabel_Tower70B</td>\n",
       "      <td>30.51</td>\n",
       "    </tr>\n",
       "    <tr>\n",
       "      <th>15</th>\n",
       "      <td>ZMT</td>\n",
       "      <td>35.80</td>\n",
       "    </tr>\n",
       "  </tbody>\n",
       "</table>\n",
       "</div>"
      ],
      "text/plain": [
       "                file  bleu_scores\n",
       "0              Aya23        23.09\n",
       "1         Claude_3_5        30.79\n",
       "2      CommandR_plus        22.59\n",
       "3             CycleL         0.62\n",
       "4              GPT_4        25.18\n",
       "5               IKUN        15.46\n",
       "6             IKUN_C        14.62\n",
       "7       IOL_Research        25.81\n",
       "8         Llama3_70B        25.83\n",
       "9        NVIDIA_NeMo        29.91\n",
       "10          ONLINE_A        35.80\n",
       "11          ONLINE_B        35.34\n",
       "12          ONLINE_G        33.00\n",
       "13       TranssionMT        35.48\n",
       "14  Unbabel_Tower70B        30.51\n",
       "15               ZMT        35.80"
      ]
     },
     "execution_count": 55,
     "metadata": {},
     "output_type": "execute_result"
    }
   ],
   "source": [
    "final_model"
   ]
  },
  {
   "cell_type": "code",
   "execution_count": 56,
   "metadata": {},
   "outputs": [],
   "source": [
    "import matplotlib.pyplot as plt"
   ]
  },
  {
   "cell_type": "code",
   "execution_count": 71,
   "metadata": {},
   "outputs": [
    {
     "data": {
      "image/png": "[encoded data removed]",
      "text/plain": [
       "<Figure size 1000x600 with 1 Axes>"
      ]
     },
     "metadata": {},
     "output_type": "display_data"
    }
   ],
   "source": [
    "# Calculate the mean of the values\n",
    "mean_value = final_model['bleu_scores'].mean()\n",
    "\n",
    "# Create a bar plot\n",
    "plt.figure(figsize=(10, 6))\n",
    "# plt.bar(final_model['file'], final_model['bleu_scores'], color='skyblue', label='Values')\n",
    "\n",
    "bars = plt.bar(final_model['file'], final_model['bleu_scores'], color='skyblue', label='Values')\n",
    "\n",
    "# Add a line for the mean value\n",
    "plt.axhline(y=mean_value, color='black', linestyle='--', label=f'Mean: {mean_value:.2f}')\n",
    "\n",
    "# Add labels and title\n",
    "plt.xlabel('Models')\n",
    "plt.ylabel('Bleu Scores')\n",
    "plt.title('Mean of the Bleu Scores')\n",
    "plt.legend()\n",
    "\n",
    "# Rotate x-axis labels to vertical\n",
    "plt.xticks(rotation=90)\n",
    "\n",
    "\n",
    "\n",
    "# # Save the plot to a file\n",
    "# plt.savefig('bar_graph_with_mean_line.png', bbox_inches='tight')\n",
    "# Display the value on each bar\n",
    "for bar in bars:\n",
    "    height = bar.get_height()\n",
    "    plt.text(bar.get_x() + bar.get_width() / 2, height, f'{height:.2f}',\n",
    "             ha='center', va='bottom')\n",
    "    \n",
    "# Show the plot\n",
    "plt.show()"
   ]
  },
  {
   "cell_type": "markdown",
   "metadata": {},
   "source": [
    "## Full Bleu"
   ]
  },
  {
   "cell_type": "code",
   "execution_count": 81,
   "metadata": {},
   "outputs": [],
   "source": [
    "from sacrebleu.metrics import BLEU"
   ]
  },
  {
   "cell_type": "code",
   "execution_count": 73,
   "metadata": {},
   "outputs": [],
   "source": [
    "import os"
   ]
  },
  {
   "cell_type": "code",
   "execution_count": 79,
   "metadata": {},
   "outputs": [],
   "source": [
    "base_folder = \"/home/soham37/Downloads/xCOMET/xCOMET/Domains/full\""
   ]
  },
  {
   "cell_type": "code",
   "execution_count": 88,
   "metadata": {},
   "outputs": [],
   "source": [
    "with open(\"/home/soham37/Downloads/xCOMET/xCOMET/Domains/full/full_reference.txt\", \"r\") as f:\n",
    "    references = f.readlines()    "
   ]
  },
  {
   "cell_type": "code",
   "execution_count": 103,
   "metadata": {},
   "outputs": [],
   "source": [
    "ls_full_bleu_score = []"
   ]
  },
  {
   "cell_type": "code",
   "execution_count": 101,
   "metadata": {},
   "outputs": [
    {
     "name": "stdout",
     "output_type": "stream",
     "text": [
      "Aya23\n",
      "Claude_3_5\n",
      "CommandR_plus\n",
      "CycleL\n",
      "GPT_4\n",
      "IKUN\n",
      "IKUN_C\n",
      "IOL_Research\n",
      "Llama3_70B\n",
      "NVIDIA_NeMo\n",
      "ONLINE_A\n",
      "ONLINE_B\n",
      "ONLINE_G\n",
      "TranssionMT\n",
      "Unbabel_Tower70B\n",
      "ZMT\n"
     ]
    }
   ],
   "source": [
    "for model in file:\n",
    "    with open(f\"/home/soham37/Downloads/xCOMET/xCOMET/Domains/full/full_{model}.txt\", \"r\") as h:\n",
    "        hypothesis = h.readlines()\n",
    "    print(model)"
   ]
  },
  {
   "cell_type": "code",
   "execution_count": 104,
   "metadata": {},
   "outputs": [],
   "source": [
    "for model in file: \n",
    "    with open(f\"/home/soham37/Downloads/xCOMET/xCOMET/Domains/full/full_{model}.txt\", \"r\") as h:\n",
    "        hypothesis = h.readlines()\n",
    "    bleu = BLEU()\n",
    "    score = bleu.corpus_score(hypotheses=hypothesis, references=[references])\n",
    "    bleu_score = float(str(score).split()[2])\n",
    "    ls_full_bleu_score.append(bleu_score)\n",
    "    # print(model)\n"
   ]
  },
  {
   "cell_type": "code",
   "execution_count": 105,
   "metadata": {},
   "outputs": [
    {
     "data": {
      "text/plain": [
       "[23.53,\n",
       " 31.63,\n",
       " 23.28,\n",
       " 0.78,\n",
       " 25.98,\n",
       " 16.7,\n",
       " 16.44,\n",
       " 26.79,\n",
       " 26.18,\n",
       " 29.81,\n",
       " 36.21,\n",
       " 35.92,\n",
       " 32.79,\n",
       " 35.94,\n",
       " 31.3,\n",
       " 36.2]"
      ]
     },
     "execution_count": 105,
     "metadata": {},
     "output_type": "execute_result"
    }
   ],
   "source": [
    "ls_full_bleu_score"
   ]
  },
  {
   "cell_type": "code",
   "execution_count": 106,
   "metadata": {},
   "outputs": [],
   "source": [
    "df_full = pd.DataFrame({\"file\": file, \"full_bleu\": ls_full_bleu_score})"
   ]
  },
  {
   "cell_type": "code",
   "execution_count": 107,
   "metadata": {},
   "outputs": [
    {
     "data": {
      "text/html": [
       "<div>\n",
       "<style scoped>\n",
       "    .dataframe tbody tr th:only-of-type {\n",
       "        vertical-align: middle;\n",
       "    }\n",
       "\n",
       "    .dataframe tbody tr th {\n",
       "        vertical-align: top;\n",
       "    }\n",
       "\n",
       "    .dataframe thead th {\n",
       "        text-align: right;\n",
       "    }\n",
       "</style>\n",
       "<table border=\"1\" class=\"dataframe\">\n",
       "  <thead>\n",
       "    <tr style=\"text-align: right;\">\n",
       "      <th></th>\n",
       "      <th>file</th>\n",
       "      <th>full_bleu</th>\n",
       "    </tr>\n",
       "  </thead>\n",
       "  <tbody>\n",
       "    <tr>\n",
       "      <th>0</th>\n",
       "      <td>Aya23</td>\n",
       "      <td>23.53</td>\n",
       "    </tr>\n",
       "    <tr>\n",
       "      <th>1</th>\n",
       "      <td>Claude_3_5</td>\n",
       "      <td>31.63</td>\n",
       "    </tr>\n",
       "    <tr>\n",
       "      <th>2</th>\n",
       "      <td>CommandR_plus</td>\n",
       "      <td>23.28</td>\n",
       "    </tr>\n",
       "    <tr>\n",
       "      <th>3</th>\n",
       "      <td>CycleL</td>\n",
       "      <td>0.78</td>\n",
       "    </tr>\n",
       "    <tr>\n",
       "      <th>4</th>\n",
       "      <td>GPT_4</td>\n",
       "      <td>25.98</td>\n",
       "    </tr>\n",
       "    <tr>\n",
       "      <th>5</th>\n",
       "      <td>IKUN</td>\n",
       "      <td>16.70</td>\n",
       "    </tr>\n",
       "    <tr>\n",
       "      <th>6</th>\n",
       "      <td>IKUN_C</td>\n",
       "      <td>16.44</td>\n",
       "    </tr>\n",
       "    <tr>\n",
       "      <th>7</th>\n",
       "      <td>IOL_Research</td>\n",
       "      <td>26.79</td>\n",
       "    </tr>\n",
       "    <tr>\n",
       "      <th>8</th>\n",
       "      <td>Llama3_70B</td>\n",
       "      <td>26.18</td>\n",
       "    </tr>\n",
       "    <tr>\n",
       "      <th>9</th>\n",
       "      <td>NVIDIA_NeMo</td>\n",
       "      <td>29.81</td>\n",
       "    </tr>\n",
       "    <tr>\n",
       "      <th>10</th>\n",
       "      <td>ONLINE_A</td>\n",
       "      <td>36.21</td>\n",
       "    </tr>\n",
       "    <tr>\n",
       "      <th>11</th>\n",
       "      <td>ONLINE_B</td>\n",
       "      <td>35.92</td>\n",
       "    </tr>\n",
       "    <tr>\n",
       "      <th>12</th>\n",
       "      <td>ONLINE_G</td>\n",
       "      <td>32.79</td>\n",
       "    </tr>\n",
       "    <tr>\n",
       "      <th>13</th>\n",
       "      <td>TranssionMT</td>\n",
       "      <td>35.94</td>\n",
       "    </tr>\n",
       "    <tr>\n",
       "      <th>14</th>\n",
       "      <td>Unbabel_Tower70B</td>\n",
       "      <td>31.30</td>\n",
       "    </tr>\n",
       "    <tr>\n",
       "      <th>15</th>\n",
       "      <td>ZMT</td>\n",
       "      <td>36.20</td>\n",
       "    </tr>\n",
       "  </tbody>\n",
       "</table>\n",
       "</div>"
      ],
      "text/plain": [
       "                file  full_bleu\n",
       "0              Aya23      23.53\n",
       "1         Claude_3_5      31.63\n",
       "2      CommandR_plus      23.28\n",
       "3             CycleL       0.78\n",
       "4              GPT_4      25.98\n",
       "5               IKUN      16.70\n",
       "6             IKUN_C      16.44\n",
       "7       IOL_Research      26.79\n",
       "8         Llama3_70B      26.18\n",
       "9        NVIDIA_NeMo      29.81\n",
       "10          ONLINE_A      36.21\n",
       "11          ONLINE_B      35.92\n",
       "12          ONLINE_G      32.79\n",
       "13       TranssionMT      35.94\n",
       "14  Unbabel_Tower70B      31.30\n",
       "15               ZMT      36.20"
      ]
     },
     "execution_count": 107,
     "metadata": {},
     "output_type": "execute_result"
    }
   ],
   "source": [
    "df_full"
   ]
  },
  {
   "cell_type": "code",
   "execution_count": 109,
   "metadata": {},
   "outputs": [
    {
     "data": {
      "image/png": "[encoded data removed]",
      "text/plain": [
       "<Figure size 1000x600 with 1 Axes>"
      ]
     },
     "metadata": {},
     "output_type": "display_data"
    }
   ],
   "source": [
    "# Calculate the mean of the values\n",
    "mean_value = df_full['full_bleu'].mean()\n",
    "\n",
    "# Create a bar plot\n",
    "plt.figure(figsize=(10, 6))\n",
    "# plt.bar(final_model['file'], final_model['bleu_scores'], color='skyblue', label='Values')\n",
    "\n",
    "bars = plt.bar(df_full['file'], df_full['full_bleu'], color='skyblue', label='Values')\n",
    "\n",
    "# Add a line for the mean value\n",
    "plt.axhline(y=mean_value, color='black', linestyle='--', label=f'Mean: {mean_value:.2f}')\n",
    "\n",
    "# Add labels and title\n",
    "plt.xlabel('Models')\n",
    "plt.ylabel('BLEU Scores')\n",
    "plt.title('BLEU Score on full Dataset')\n",
    "plt.legend()\n",
    "\n",
    "# Rotate x-axis labels to vertical\n",
    "plt.xticks(rotation=90)\n",
    "\n",
    "\n",
    "\n",
    "# # Save the plot to a file\n",
    "# plt.savefig('bar_graph_with_mean_line.png', bbox_inches='tight')\n",
    "# Display the value on each bar\n",
    "for bar in bars:\n",
    "    height = bar.get_height()\n",
    "    plt.text(bar.get_x() + bar.get_width() / 2, height, f'{height:.2f}',\n",
    "             ha='center', va='bottom')\n",
    "    \n",
    "# Show the plot\n",
    "plt.show()"
   ]
  },
  {
   "cell_type": "code",
   "execution_count": null,
   "metadata": {},
   "outputs": [],
   "source": []
  }
 ],
 "metadata": {
  "kernelspec": {
   "display_name": "Python 3",
   "language": "python",
   "name": "python3"
  },
  "language_info": {
   "codemirror_mode": {
    "name": "ipython",
    "version": 3
   },
   "file_extension": ".py",
   "mimetype": "text/x-python",
   "name": "python",
   "nbconvert_exporter": "python",
   "pygments_lexer": "ipython3",
   "version": "3.10.12"
  }
 },
 "nbformat": 4,
 "nbformat_minor": 2
}
